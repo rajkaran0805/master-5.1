{
 "cells": [
  {
   "cell_type": "code",
   "execution_count": 6,
   "metadata": {},
   "outputs": [
    {
     "name": "stdout",
     "output_type": "stream",
     "text": [
      "division by zero!\n",
      "In finally block for cleanup\n"
     ]
    }
   ],
   "source": [
    "def throws():\n",
    "\n",
    "    return 5/0\n",
    "try:\n",
    "    throws()\n",
    "\n",
    "except ZeroDivisionError:\n",
    "\n",
    "    print (\"division by zero!\")\n",
    "\n",
    "except Exception:\n",
    "\n",
    "    print ('Caught an exception')\n",
    "\n",
    "finally:\n",
    "\n",
    "    print ('In finally block for cleanup')"
   ]
  }
 ],
 "metadata": {
  "kernelspec": {
   "display_name": "Python 3",
   "language": "python",
   "name": "python3"
  },
  "language_info": {
   "codemirror_mode": {
    "name": "ipython",
    "version": 3
   },
   "file_extension": ".py",
   "mimetype": "text/x-python",
   "name": "python",
   "nbconvert_exporter": "python",
   "pygments_lexer": "ipython3",
   "version": "3.6.2"
  }
 },
 "nbformat": 4,
 "nbformat_minor": 2
}
